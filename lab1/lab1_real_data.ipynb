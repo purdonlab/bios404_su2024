{
 "cells": [
  {
   "cell_type": "code",
   "execution_count": null,
   "metadata": {},
   "outputs": [],
   "source": [
    "# author: Tom Stone <tomstone@stanford.edu>\n",
    "# author: Proloy Das <email:proloyd94@gmail.com>\n",
    "# License: BSD (3-clause)"
   ]
  },
  {
   "cell_type": "markdown",
   "metadata": {},
   "source": [
    "# Real EEG data example"
   ]
  },
  {
   "cell_type": "code",
   "execution_count": null,
   "metadata": {},
   "outputs": [],
   "source": [
    "%matplotlib widget\n",
    "%matplotlib widget\n",
    "import numpy as np\n",
    "\n",
    "from matplotlib import pyplot\n",
    "from utils import *\n",
    "\n",
    "\n",
    "pyplot.rcParams.update({\n",
    "    \"text.usetex\": True,\n",
    "    \"font.family\": \"Helvetica\",\n",
    "    \"figure.constrained_layout.use\": True,\n",
    "    \"savefig.dpi\": 300\n",
    "})\n",
    "# rng = np.random.default_rng(12345)"
   ]
  },
  {
   "cell_type": "markdown",
   "metadata": {},
   "source": [
    "Load the saved numpy array `propofol_eeg_demo.npz` with `numpy.load()` ffunction. The data has one array containing single channel EEG data, another array containing the time indices. The EEG data is collected when the participant was undering propofol induced anesthesia.\n",
    "For this lab, use window 500s - 510s as baseline, window 4705s - 4715s as deep_anesthesia.\n",
    "\n",
    "Also, the EEG data in Volts, change it to microVolts before carrying out any analysis."
   ]
  },
  {
   "cell_type": "code",
   "execution_count": null,
   "metadata": {},
   "outputs": [],
   "source": [
    "f = np.load('propofol_eeg_demo.npz')\n",
    "data = f['data'] * 1e6\n",
    "times = f['times']"
   ]
  },
  {
   "cell_type": "code",
   "execution_count": null,
   "metadata": {},
   "outputs": [],
   "source": [
    "baseline = data[0, np.logical_and(times >= 500., times < 510.)]\n",
    "baseline_time_indices = times[np.logical_and(times >= 500., times < 510.)]\n",
    "deep_anesthesia = data[0, np.logical_and(times >= 4705., times < 4715.)]\n",
    "deep_anesthesia_time_indices = times[np.logical_and(times >= 4705., times < 4715.)]\n"
   ]
  },
  {
   "cell_type": "markdown",
   "metadata": {},
   "source": [
    "FYI. in real data analysis we are not interested in normalized frequency. Rather we want to know all the power contribution against actual frequecncy. We will need to simply multiply the returned normalized frequency by the sampling frequency to get the frequency bins in terms of the actual frequency (i.e. frequencies in Hz).\n",
    "\n",
    "Question: how will you compute the sampling frequency from the time index array?\n",
    "\n",
    "Hint: $$\\text{sampling frequency} = \\frac{1}{\\text{sampling interval}}$$\n"
   ]
  },
  {
   "cell_type": "code",
   "execution_count": null,
   "metadata": {},
   "outputs": [],
   "source": [
    "sfreq = 1 / (times[1] - times[0])"
   ]
  },
  {
   "cell_type": "markdown",
   "metadata": {},
   "source": [
    "### Baseline\n",
    "First plot the baseline data, then compute its multitaper sepctrum and plot it. Don't forget to multiply the returned frequency points by sampling frequency."
   ]
  },
  {
   "cell_type": "code",
   "execution_count": null,
   "metadata": {},
   "outputs": [],
   "source": [
    "fig, ax = pyplot.subplots(figsize=(8, 2))\n",
    "ax.plot(baseline_time_indices, baseline, linewidth=0.5)\n",
    "ax.set_ylim([-50, 50])\n",
    "ax.set_title('Baseline')\n",
    "ax.set_ylabel('amplitude (µV)')\n",
    "ax.set_xlabel('time (s)')"
   ]
  },
  {
   "cell_type": "code",
   "execution_count": null,
   "metadata": {},
   "outputs": [],
   "source": [
    "Smtm_xx_est, freqs = compute_multitaper_spectrum(baseline, NW=4, Kmax=5)\n",
    "freqs *= sfreq\n",
    "fig, ax = pyplot.subplots(figsize = (4,3))\n",
    "ax.plot(freqs, 10*np.log10(Smtm_xx_est), linewidth=0.5)\n",
    "ax.set_xlim([0, sfreq/2])\n",
    "ax.set_ylim([-50, 50])\n",
    "ax.set_ylabel('PSD (dB)')\n",
    "ax.set_xlabel('Freq (Hz)')\n",
    "_ = ax.set_title('Baseline Spectrum')"
   ]
  },
  {
   "cell_type": "markdown",
   "metadata": {},
   "source": [
    "### Deep anesthesia\n",
    "Next plot the deep anesthesia data, then compute its multitaper sepctrum and plot it. Don't forget to multiply the returned frequency points by sampling frequency."
   ]
  },
  {
   "cell_type": "code",
   "execution_count": null,
   "metadata": {},
   "outputs": [],
   "source": [
    "fig, ax = pyplot.subplots(figsize=(8, 2))\n",
    "ax.plot(deep_anesthesia_time_indices, deep_anesthesia.T, linewidth=0.5)\n",
    "ax.set_ylim([-50, 50])\n",
    "ax.set_title('Deep Anesthesia')\n",
    "ax.set_ylabel('Amplitude (µV)')\n",
    "ax.set_xlabel('Time (s)')"
   ]
  },
  {
   "cell_type": "code",
   "execution_count": null,
   "metadata": {},
   "outputs": [],
   "source": [
    "Smtm_xx_est, freqs = compute_multitaper_spectrum(deep_anesthesia, NW=4, Kmax=5)\n",
    "freqs *= sfreq\n",
    "fig, ax = pyplot.subplots(figsize = (4,3))\n",
    "ax.plot(freqs, 10*np.log10(Smtm_xx_est), linewidth=0.5)\n",
    "ax.set_xlim([0, sfreq/2])\n",
    "ax.set_ylim([-50, 50])\n",
    "ax.set_ylabel('PSD (dB)')\n",
    "ax.set_xlabel('Freq (Hz)')\n",
    "_ = ax.set_title('Deep Anesthesia Spectrum')"
   ]
  },
  {
   "cell_type": "markdown",
   "metadata": {},
   "source": [
    "# Spectrogram"
   ]
  },
  {
   "cell_type": "markdown",
   "metadata": {},
   "source": [
    "Now we plot the data over the whole experiment to see there is non-stationarity."
   ]
  },
  {
   "cell_type": "code",
   "execution_count": null,
   "metadata": {},
   "outputs": [],
   "source": [
    "fig, ax = pyplot.subplots(figsize=(8, 2))\n",
    "ax.plot(times, data.T, linewidth=0.5)\n",
    "ax.set_ylim([-75, 75])\n",
    "ax.set_title('Anesthesia')\n",
    "ax.set_ylabel('Amplitude (µV)')\n",
    "ax.set_xlabel('Time (s)')"
   ]
  },
  {
   "cell_type": "markdown",
   "metadata": {},
   "source": [
    "How do we deal with such data with spectrum estimate?\n",
    "\n",
    "1. Pick a window of length 5s.\n",
    "2. Assume stationarity over the interval of 5s and compute the multi-taper spectral density estimate.\n",
    "3. Move the window 1s forward and repeat.\n",
    "\n",
    "This representation is called spectrogram."
   ]
  },
  {
   "cell_type": "code",
   "execution_count": null,
   "metadata": {},
   "outputs": [],
   "source": [
    "N = 5 # seconds\n",
    "window_length = int(N * sfreq)  # number of samples\n",
    "n = 1 # seconds\n",
    "sliding_length = int(n * sfreq)  # number of samples\n",
    "\n",
    "NW = 4\n",
    "Kmax = 5\n",
    "\n",
    "# Define a list to keep computed spectrum, and the middle points of the associated time window\n",
    "Smtm_xx_ests = []\n",
    "middle_time_points = []\n",
    "# Moving is done by a for loop with python `range` function\n",
    "for tt in range(0, len(times) - window_length + 1, sliding_length):\n",
    "    # extract 5s data by indexing \n",
    "    x = data[0, tt:tt+window_length]\n",
    "    # compute multitaper spectrum\n",
    "    Smtm_xx_est, freqs = compute_multitaper_spectrum(x, NW, Kmax)\n",
    "    # Collect them in the list\n",
    "    Smtm_xx_ests.append(Smtm_xx_est)\n",
    "    # Also keep track of middle point of the time window\n",
    "    middle_time_point = tt + window_length / 2\n",
    "    middle_time_points.append(middle_time_point)\n",
    "\n",
    "freqs *= sfreq\n",
    "# Stack the rows of spectrum to create a 2D array\n",
    "Smtm_xx_ests = np.vstack(Smtm_xx_ests)\n",
    "# convert the middle time points into an numpy array\n",
    "middle_time_points = np.array(middle_time_points)\n"
   ]
  },
  {
   "cell_type": "markdown",
   "metadata": {},
   "source": [
    "Now we plot the computed spectrogram as a 2D plot."
   ]
  },
  {
   "cell_type": "code",
   "execution_count": null,
   "metadata": {},
   "outputs": [],
   "source": [
    "fix, ax = pyplot.subplots(figsize=(8, 3))\n",
    "im = ax.pcolormesh(middle_time_points, freqs, 10*np.log10(Smtm_xx_ests.T), cmap='jet', clim=[-10, 20], shading='nearest')\n",
    "cb = fig.colorbar(im, ax=ax)\n",
    "cb.set_label('Power (dB)')\n",
    "ax.set_ylim([0, sfreq/2])\n",
    "ax.set_ylabel('Frequency (Hz)')\n",
    "ax.set_xlabel('Time (s)')\n",
    "_ = ax.set_title('EEG signature of anesthesia')"
   ]
  },
  {
   "cell_type": "markdown",
   "metadata": {},
   "source": [
    "Hopefully, we are able to empower you in using these tools! Happy experimenting with them!"
   ]
  }
 ],
 "metadata": {
  "kernelspec": {
   "display_name": "Python 3 (ipykernel)",
   "language": "python",
   "name": "python3"
  },
  "language_info": {
   "codemirror_mode": {
    "name": "ipython",
    "version": 3
   },
   "file_extension": ".py",
   "mimetype": "text/x-python",
   "name": "python",
   "nbconvert_exporter": "python",
   "pygments_lexer": "ipython3",
   "version": "3.11.7"
  }
 },
 "nbformat": 4,
 "nbformat_minor": 4
}
