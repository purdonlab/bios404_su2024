{
 "cells": [
  {
   "cell_type": "code",
   "execution_count": null,
   "metadata": {},
   "outputs": [],
   "source": [
    "# author: Tom Stone <tomstone@stanford.edu>\n",
    "# author: Proloy Das <email:proloyd94@gmail.com>\n",
    "# License: BSD (3-clause)\n",
    "%matplotlib widget\n",
    "import numpy as np\n",
    "from scipy import signal, fft\n",
    "\n",
    "from matplotlib import pyplot\n",
    "from utils import *\n",
    "\n",
    "# rcParams are set to make the plots pretty (i.e., publication ready).\n",
    "pyplot.rcParams.update({\n",
    "    \"text.usetex\": True,\n",
    "    \"figure.constrained_layout.use\": True,\n",
    "    \"savefig.dpi\": 300      # very imp for publications\n",
    "})"
   ]
  },
  {
   "cell_type": "markdown",
   "metadata": {},
   "source": [
    "We will create a random number generator, and seed it (the argument) to make the random number generation reproducible. \n",
    "That is, the numbers generarted will be 'random' in the probabilty measure sense, but they will be the same everytime you run the code. "
   ]
  },
  {
   "cell_type": "code",
   "execution_count": null,
   "metadata": {},
   "outputs": [],
   "source": [
    "rng = np.random.default_rng(12345)"
   ]
  },
  {
   "cell_type": "markdown",
   "metadata": {},
   "source": [
    "## Generating a white noise signal\n",
    "Create n=1024 time-samples of a Gaussian white noise process.\n",
    "$$𝔼[𝑤_𝑘]=𝜇$$\n",
    "$$Var(𝑤_𝑘 )=𝜎^2$$\n",
    "$$Cov(𝑤_𝑘, 𝑤_𝑙 )=0  \\text{ for } 𝑘≠𝑙$$\n",
    "Assume $\\mu = 0$. Hint: use `rng.normal()`\n",
    "\n",
    "Also create the time indices corresponding the white noise sequence."
   ]
  },
  {
   "cell_type": "code",
   "execution_count": null,
   "metadata": {},
   "outputs": [],
   "source": [
    "wn = rng.normal(size=1024)\n",
    "time_indices = np.arange(1024)"
   ]
  },
  {
   "cell_type": "markdown",
   "metadata": {},
   "source": [
    "Plot the white noise againt time using matplotlib."
   ]
  },
  {
   "cell_type": "code",
   "execution_count": null,
   "metadata": {},
   "outputs": [],
   "source": [
    "fig1, ax = pyplot.subplots(figsize=(8, 2))\n",
    "ax.plot(time_indices, wn, linewidth=0.5)\n",
    "ax.set_xlabel('$t$')\n",
    "ax.set_ylabel('$w_t$')\n",
    "ax.set_ylim([-4, 4])\n",
    "ax.set_title('White noise process')"
   ]
  },
  {
   "cell_type": "markdown",
   "metadata": {},
   "source": [
    "Now we compute the autocovaraince sequence from the realization that we generated.\n",
    "$$\\hat{s}_k = \\frac{1}{N}\\sum_{i=1}^{N-\\vert k\\vert}(x_i-\\hat{\\mu})(x_{i+\\vert k \\vert} -\\hat{\\mu})$$\n",
    "For that write a funtion with `compute_autocovaraince(signal, max_lag)` that takes in the signal and the maximum lag upto which it needs to compute the autocovaraince sequence as inputs, and returns the autocovaraince, and the associated time indices as output.\n",
    "\n",
    "Note: This problem can be solved very easily with only a few line of code using `signal.correlate` funtion as instructed bewlow. "
   ]
  },
  {
   "cell_type": "code",
   "execution_count": null,
   "metadata": {},
   "outputs": [],
   "source": [
    "def compute_autocovaraince(x, max_lag=512):\n",
    "    \"\"\"Computes autocovarinane upto a given lag.\n",
    "    \n",
    "    Parameters:\n",
    "        x:\n",
    "            the signal\n",
    "        max_lag: \n",
    "            maximum lag to consider for autocovaraince sequenc\n",
    "    Returns:\n",
    "        acov:\n",
    "            the sample autocovariance, normalized by the number of samples.\n",
    "        time_indices:\n",
    "         integer shifts, i.e the x-axis for the autocovariance plot.\n",
    "    \"\"\"\n",
    "    assert max_lag > 0, f\"max_lag needs to be >0, received {max_lag}\"\n",
    "    n = x.shape[-1] # length of time series\n",
    "    assert max_lag < n, f\"max_lag needs to be < signal length ({n}) , received {max_lag}\"\n",
    "    # Compute the mean, `mu`\n",
    "    mu = x.sum(axis=-1) / n\n",
    "\n",
    "    # Remove the mean from the sequence\n",
    "    x = x - mu\n",
    "\n",
    "    # Use `signal.correlate` function to compute the acov sequence\n",
    "    # See https://docs.scipy.org/doc/scipy/reference/generated/scipy.signal.correlate.html\n",
    "    # Use mode='full' which returns the full result, i.e. lag -n+1 to lag n-1\n",
    "    acov = signal.correlate(x, x, mode='full', method='fft') / n\n",
    "    # Create an index array corrsponding to the correlation values using `numpy.arange``\n",
    "    indices = np.arange(-n+1, n)\n",
    "\n",
    "    # Create a boolean selection to extract indices within range[-max_lag, max_lag].\n",
    "    # Use `numpy.logical_and()`\n",
    "    selection = np.logical_and(indices < max_lag+1, indices > -max_lag-1)\n",
    "    return acov[selection], indices[selection]"
   ]
  },
  {
   "cell_type": "markdown",
   "metadata": {},
   "source": [
    "We will now use the function to compute sample autocovariance sequnce, and compare with the true autocovaraince sequence using a plot.\n",
    "$$s_k =\\begin{cases}\n",
    "        1 \\text{, } k=0 \\\\\n",
    "        0 \\text{, otherwise}\n",
    "        \\end{cases}$$"
   ]
  },
  {
   "cell_type": "code",
   "execution_count": null,
   "metadata": {},
   "outputs": [],
   "source": [
    "# Sampe autocorrelation\n",
    "max_lag = wn.shape[-1] - 1\n",
    "sample_acov, lags = compute_autocovaraince(wn, max_lag)\n",
    "\n",
    "# True autocovaraince\n",
    "true_acov = np.zeros_like(sample_acov)\n",
    "true_acov[max_lag] = 1\n",
    "\n",
    "fig1, ax = pyplot.subplots(figsize=(8, 2))\n",
    "ax.plot(lags, sample_acov, linewidth=1, color='r', label='Sample')\n",
    "ax.plot(lags, true_acov, linewidth=1, color='b', label='True')\n",
    "ax.set_ylim([-0.2, 1.2])\n",
    "ax.legend()\n",
    "_ = ax.set_title('Autocorrelation sequence plot')"
   ]
  },
  {
   "cell_type": "markdown",
   "metadata": {},
   "source": [
    "Now we are ready to compute the periodogram. Create a function with signature `compute_periodogram(x)` that computes the autocovaraince sequence, and takes its Fourier transform.\n",
    "$$\\hat{S}(f) = T \\sum_{-N+1}^{N-1} \\hat{s}_k\\exp(-i2\\pi k fT)$$\n",
    "The function shall return the power spectral density (PSD) estimate, and associated (normalized) frequency points.\n",
    "\n",
    "Note: Use `scipy.fft.fft()` function perform the transform."
   ]
  },
  {
   "cell_type": "code",
   "execution_count": null,
   "metadata": {},
   "outputs": [],
   "source": [
    "# Don't forget to take the absolute value after doing fft.\n",
    "S_xx_est = np.abs(fft.fft(sample_acov)) \n",
    "S_xx_true = np.abs(fft.fft(true_acov))\n",
    "freqs = np.linspace(0, 1, num=len(lags))\n",
    "\n",
    "# Periodogram plot\n",
    "fig1, ax = pyplot.subplots(figsize=(5, 2))\n",
    "ax.plot(freqs, 10*np.log10(S_xx_est), linewidth=1, color='r', label='Sample')\n",
    "ax.plot(freqs, 10*np.log10(S_xx_true), linewidth=1, color='b', label='True')\n",
    "ax.set_ylim([-30, 20])\n",
    "ax.set_xlim([0., 0.5])\n",
    "ax.legend()\n",
    "_ = ax.set_title('Periodogram plot')"
   ]
  },
  {
   "cell_type": "markdown",
   "metadata": {},
   "source": [
    "Now, create a function with signature `compute_periodogram(x)` that uses the following formulae:\n",
    "$$\\hat{S}(f) = \\frac{T}{N} \\left\\vert\\sum_{k=0}^{N-1} x_k\\exp(-i2\\pi k fT)\\right\\vert^2$$\n",
    "The function shall return the power spectral density (PSD) estimate, and associated (normalized) frequency points.\n",
    "\n",
    "Note: Use `scipy.fft.fft()` function perform the transform."
   ]
  },
  {
   "cell_type": "code",
   "execution_count": null,
   "metadata": {},
   "outputs": [],
   "source": [
    "def compute_periodogram(x):\n",
    "    \"\"\"Compute periodogram using fft directly on the signal.\n",
    "    \n",
    "    Parameters:\n",
    "        x:\n",
    "            the signal\n",
    "    Returns:\n",
    "        S_xx:\n",
    "            periodogram.\n",
    "        freqs:\n",
    "         associated frequency (normalized) points.\n",
    "    \"\"\"\n",
    "    n = x.shape[-1]\n",
    "    # Compute the mean\n",
    "    mu = x.sum() / n\n",
    "    # remove the mean from the signal\n",
    "    x = x - mu\n",
    "    \n",
    "    # Now use the `fft.fft()` funtion to perform the computation.\n",
    "    S_xx = np.abs(fft.fft(x)) ** 2 / n\n",
    "    freqs = np.linspace(0., 1, num=n)\n",
    "    return S_xx, freqs\n"
   ]
  },
  {
   "cell_type": "markdown",
   "metadata": {},
   "source": [
    "Compare the output of the `compute_periodogram()` to the previously computed periodograms. "
   ]
  },
  {
   "cell_type": "code",
   "execution_count": null,
   "metadata": {},
   "outputs": [],
   "source": [
    "S_xx, freqs = compute_periodogram(wn)\n",
    "ax.plot(freqs, 10*np.log10(S_xx), linewidth=1, color='g', label='True')"
   ]
  },
  {
   "cell_type": "markdown",
   "metadata": {},
   "source": [
    "# Observations?\n",
    "\n",
    "1. Observation 1\n",
    "2. Observation 2\n",
    "...\n",
    "\n",
    "We will use the `compute periodogram` function extensively for the rest of the lab."
   ]
  },
  {
   "cell_type": "markdown",
   "metadata": {},
   "source": [
    "\n",
    "Before moving further in this notebook, we will take a look at the random processes that are more structured than white noise. \n",
    "Lets jump to the `ar2.ipynb` notebook, and run the same analysis. But, for running same analysis will require us to copy the funtions we just wrote to `ar2.ipynb` notebook. We will approach this copying a pythonic way. Instead of copying the functions to other notebooks, we will copy them to another python scipt named `utils.py`.\n",
    "\n",
    "You might ask *Why?*. The reason behind this is that once the functions are there, we simply need to import the functions as required, e.g.,\n",
    "```from lab_utils import compute_autocovariance```\n",
    "instead of copying the code anymore. \n",
    "\n",
    "Less code duplication is your friend for combatting against grave mistakes in data analysis. It makes your analysis managable from one place, thus making mudane code verification work very quick."
   ]
  },
  {
   "cell_type": "markdown",
   "metadata": {},
   "source": [
    "# Bias Reduction"
   ]
  },
  {
   "cell_type": "markdown",
   "metadata": {},
   "source": [
    "We now delve into tapered estimate. As discussed in the class, the aim of tapering is to ensure\n",
    "$$\\mathbb{E}\\{\\hat{S}(f)\\} \\approx S(f).$$\n",
    "\n",
    "Recall the steps for getting tapered estimate:\n",
    "1. Take a sample of the process $x_0,x_2,⋯,x_{(𝑁−1)}$.\n",
    "2. Multiply it by a weighting function (taper), $h_k$, $k = 0, 1, ⋯, 𝑁−1$, that smooths the edges of the date (tapering)\n",
    "3. Estimate the sample autocovariance based on the tapered data and take the Fourier transform, i.e.,\n",
    "$$\\widehat{S^t}(f) = \\frac{T}{N} \\left\\vert\\sum_{k=0}^{N-1} h_kx_k\\exp(-i2\\pi k fT)\\right\\vert^2$$\n",
    "We will follow these steps below. \n",
    "\n",
    "But, before that you might ask where do we get the tapers from? \n",
    "\n",
    "It turns out that `scipy.signal` got you covered. Check out [https://docs.scipy.org/doc/scipy/reference/signal.windows.html#module-scipy.signal.windows](https://docs.scipy.org/doc/scipy/reference/signal.windows.html#module-scipy.signal.windows). The `scipy.signal.get_window()` function returns window of a given length and type."
   ]
  },
  {
   "cell_type": "markdown",
   "metadata": {},
   "source": [
    "We will generate two types tapers: \n",
    "1. Hamming: $w(n) = 0.54 - 0.46 \\cos\\left(\\frac{2\\pi{n}}{M-1}\\right) \\qquad 0 \\leq n \\leq M-1$\n",
    "2. Hann: $w(n) = 0.5 - 0.5 \\cos\\left(\\frac{2\\pi{n}}{M-1}\\right) \\qquad 0 \\leq n \\leq M-1$\n",
    "and visualize them below.\n",
    "\n",
    "We will also look at their frequency response. Scipy provides `scipy.signal.freqz` as a convenient tool to get the frequency response."
   ]
  },
  {
   "cell_type": "code",
   "execution_count": null,
   "metadata": {},
   "outputs": [],
   "source": [
    "n = 128\n",
    "windows = dict()\n",
    "windows['hann'] = signal.get_window('hann', n)\n",
    "windows['hamming'] = signal.get_window('hamming', n)\n",
    "\n",
    "figure, axes = pyplot.subplots(2, 2, figsize=(6, 4))\n",
    "for ax, win_name in zip(axes, windows.keys()):\n",
    "    taper = windows[win_name]\n",
    "    ax[0].plot(taper)\n",
    "    ax[0].set_title(win_name)\n",
    "    ax[0].set_ylabel('$h_k$')\n",
    "    ax[0].set_xlabel('$k$')\n",
    "\n",
    "    freq, fft_taper = signal.freqz(windows[win_name], fs=1)\n",
    "    ax[1].plot(freq, 20*np.log10(np.abs(fft_taper)))\n",
    "    ax[1].set_title(win_name)\n",
    "    ax[1].set_ylabel(\"$20\\log_{10}|H(f)|$ (dB)\")\n",
    "    ax[1].set_xlabel(\"$fT$\")\n",
    "    ax[1].set_ylim([-80, 50])\n",
    "    ax[1].set_xlim([0, 0.05])"
   ]
  },
  {
   "cell_type": "markdown",
   "metadata": {},
   "source": [
    "Any assesments?\n",
    "Now try `n = 1024` to see what happens."
   ]
  },
  {
   "cell_type": "markdown",
   "metadata": {},
   "source": [
    "Now that we know how to generate tapering winows let us write a function `compute_tapered_periodogram(x, window_type)` as instructed below. "
   ]
  },
  {
   "cell_type": "code",
   "execution_count": null,
   "metadata": {},
   "outputs": [],
   "source": [
    "def compute_tapered_periodogram(x, window_type):    \n",
    "    \"\"\"Compute periodogram using after applying given taper\n",
    "\n",
    "    Parameters:\n",
    "        x:\n",
    "            the signal\n",
    "        window_type: \n",
    "            the taper to apply before computing periodogram\n",
    "    Returns:\n",
    "        S_xx:\n",
    "            periodogram.\n",
    "        freqs:\n",
    "         associated frequency (normalized) points.\n",
    "    \"\"\"\n",
    "    n = x.shape[-1]\n",
    "    # generate the taper\n",
    "    taper = signal.get_window(window_type, n)\n",
    "\n",
    "    # taper the signal\n",
    "    tapered_x = x * taper\n",
    "\n",
    "    # Compute the periodogram using your written `compute_periodogram` function\n",
    "    # This is 'reuse' of code, and highly encouraged!!!\n",
    "    St_xx, freqs = compute_periodogram(tapered_x)\n",
    "    return St_xx, freqs"
   ]
  },
  {
   "cell_type": "markdown",
   "metadata": {},
   "source": [
    "Lets check if the function works!"
   ]
  },
  {
   "cell_type": "code",
   "execution_count": null,
   "metadata": {},
   "outputs": [],
   "source": [
    "St_xx_est, freqs = compute_tapered_periodogram(wn, 'hann')"
   ]
  },
  {
   "cell_type": "markdown",
   "metadata": {},
   "source": [
    "Then plot it againt the true spectrum."
   ]
  },
  {
   "cell_type": "code",
   "execution_count": null,
   "metadata": {},
   "outputs": [],
   "source": [
    "S_xx_true = np.abs(fft.fft(true_acov))\n",
    "freqs_ = np.linspace(0, 1, num=len(S_xx_true))\n",
    "\n",
    "fig1, ax = pyplot.subplots(figsize=(5, 2))\n",
    "ax.plot(freqs, 10*np.log10(St_xx_est), linewidth=1, color='r', label='Sample')\n",
    "ax.plot(freqs_, 10*np.log10(S_xx_true), linewidth=1, color='b', label='True')\n",
    "ax.set_ylim([-30, 20])\n",
    "ax.set_xlim([0., 0.5])\n",
    "ax.legend()\n",
    "_ = ax.set_title('Tapered periodogram plot')"
   ]
  },
  {
   "cell_type": "markdown",
   "metadata": {},
   "source": [
    "Repeat the same with hamming window."
   ]
  },
  {
   "cell_type": "code",
   "execution_count": null,
   "metadata": {},
   "outputs": [],
   "source": [
    "St_xx_est, freqs = compute_tapered_periodogram(wn, 'hamming')\n",
    "\n",
    "S_xx_true = np.abs(fft.fft(true_acov))\n",
    "freqs_ = np.linspace(0, 1, num=len(S_xx_true))\n",
    "\n",
    "fig1, ax = pyplot.subplots(figsize=(5, 2))\n",
    "ax.plot(freqs, 10*np.log10(St_xx_est), linewidth=1, color='r', label='Sample')\n",
    "ax.plot(freqs_, 10*np.log10(S_xx_true), linewidth=1, color='b', label='True')\n",
    "ax.set_ylim([-30, 20])\n",
    "ax.set_xlim([0., 0.5])\n",
    "ax.legend()\n",
    "_ = ax.set_title('Tapered periodogram plot')"
   ]
  },
  {
   "cell_type": "markdown",
   "metadata": {},
   "source": [
    "How about the 'best' taper to minimize global bias?\n",
    "Your function can handle the case if you pass ```window = ('dpss', 4)```, with 4 being the half time-bandwidth product (we shall call it `NW` for the rest of your life).\n",
    "The effective half bandwidth (normalized) corresponding to this taper is: $$BW = \\frac{4}{\\text{window length}}$$.\n",
    "\n",
    "try it out!"
   ]
  },
  {
   "cell_type": "code",
   "execution_count": null,
   "metadata": {},
   "outputs": [],
   "source": [
    "St_xx_est, freqs = compute_tapered_periodogram(wn, ('dpss', 4))\n",
    "\n",
    "S_xx_true = np.abs(fft.fft(true_acov))\n",
    "freqs_ = np.linspace(0, 1, num=len(S_xx_true))\n",
    "\n",
    "fig1, ax = pyplot.subplots(figsize=(5, 2))\n",
    "ax.plot(freqs, 10*np.log10(St_xx_est), linewidth=1, color='r', label='Sample')\n",
    "ax.plot(freqs_, 10*np.log10(S_xx_true), linewidth=1, color='b', label='True')\n",
    "ax.set_ylim([-30, 20])\n",
    "ax.set_xlim([0., 0.5])\n",
    "ax.legend()\n",
    "_ = ax.set_title('Tapered periodogram plot')"
   ]
  },
  {
   "cell_type": "markdown",
   "metadata": {},
   "source": [
    "It worked, right?\n",
    "\n",
    "\n",
    "Who would knew you can code so efficiently? 😎"
   ]
  },
  {
   "cell_type": "markdown",
   "metadata": {},
   "source": [
    "Lets also look at the taper to get an idea how the taper looks."
   ]
  },
  {
   "cell_type": "code",
   "execution_count": null,
   "metadata": {},
   "outputs": [],
   "source": [
    "windows['dpss'] = signal.get_window(('dpss', 4), n)\n",
    "\n",
    "figure, ax = pyplot.subplots(1, 2, figsize=(6, 2))\n",
    "taper = windows['dpss']\n",
    "ax[0].plot(taper)\n",
    "ax[0].set_title('(dpss, 4)')\n",
    "ax[0].set_ylabel('$h_k$')\n",
    "ax[0].set_xlabel('$k$')\n",
    "\n",
    "freq, fft_taper = signal.freqz(windows['dpss'], fs=1)\n",
    "ax[1].plot(freq, 20*np.log10(np.abs(fft_taper)))\n",
    "ax[1].set_title('(dpss, 4)')\n",
    "ax[1].set_ylabel(\"$20\\log_{10}|H(f)|$ (dB)\")\n",
    "ax[1].set_xlabel(\"$fT$\")\n",
    "ax[1].set_ylim([-80, 50])\n",
    "ax[1].set_xlim([0, 0.01])"
   ]
  },
  {
   "cell_type": "markdown",
   "metadata": {},
   "source": [
    "What's the effective bandwidth, guys? [Fill in the gaps between two curly braces!]"
   ]
  },
  {
   "cell_type": "code",
   "execution_count": null,
   "metadata": {},
   "outputs": [],
   "source": [
    "print(f\"The effective bandwidth is {4/n}\")"
   ]
  },
  {
   "cell_type": "markdown",
   "metadata": {},
   "source": [
    "Can you see that bandwidth in the upper plot?"
   ]
  },
  {
   "cell_type": "markdown",
   "metadata": {},
   "source": [
    "Now you know the drill. We will copy the function to the `utils.py`, and you are gonna get the tapered periodogram estimate for the other two cases."
   ]
  },
  {
   "cell_type": "markdown",
   "metadata": {},
   "source": [
    "# Variance Reduction"
   ]
  },
  {
   "cell_type": "markdown",
   "metadata": {},
   "source": [
    "As wer learned in the class, the way to do variance reduction is get multiple **uncorrleated** samples of the same process, and average them. We will use the dpss sequences to achieve multiple **uncorrleated** samples of the spectrum estimate, and average them to get what we call multitaper estimate."
   ]
  },
  {
   "cell_type": "markdown",
   "metadata": {},
   "source": [
    "But, first lets look at higher order dpss sequences. (So far we only saw the 0th order one) \n",
    "The `scipy.signal.get_window()` funtion accepts a keyword `Kmax` that controls the number of dpss tapers returned. \n",
    "\n",
    "Verify from the documentation. [https://docs.scipy.org/doc/scipy/reference/generated/scipy.signal.windows.dpss.html#scipy.signal.windows.dpss](https://docs.scipy.org/doc/scipy/reference/generated/scipy.signal.windows.dpss.html#scipy.signal.windows.dpss)"
   ]
  },
  {
   "cell_type": "code",
   "execution_count": null,
   "metadata": {},
   "outputs": [],
   "source": [
    "NW = 4\n",
    "dpss_win = signal.windows.dpss(n, NW, Kmax=7)"
   ]
  },
  {
   "cell_type": "markdown",
   "metadata": {},
   "source": [
    "Now, visulalize them."
   ]
  },
  {
   "cell_type": "code",
   "execution_count": null,
   "metadata": {},
   "outputs": [],
   "source": [
    "fig, axes = pyplot.subplots(len(dpss_win), 1, figsize=(4, 16))\n",
    "for i, (ax, win) in enumerate(zip(axes, dpss_win)):\n",
    "    ax.plot(win, linewidth=1.)\n",
    "    ax.set(xlim=[0, n-1], ylim=[-0.2, 0.2], xlabel='Samples',\n",
    "        title=f'{i}th dpss, N={n}')"
   ]
  },
  {
   "cell_type": "markdown",
   "metadata": {},
   "source": [
    "Now, write a function `compute_multitaper_spectrum()` for forming multitaper spectral estimate from a given data, time-bandwidth product (NW) and number of tapers to use. For this you need to \n",
    "1. get the tapers using the data length, time-bandwidth product (NW) and number of tapers.\n",
    "2. form the tapered estimates.\n",
    "3. combine them to get the multitaper sepctrum estimate.\n",
    " \n",
    "We will have to pay attention to the taper generation because of existence different normalization procedures. See the `norm` parameter in the `dpss` documentation. We suggest to use `norm=2`, that way the tapers come normalized by l2-norm, and also by window length. So, you will have to take special care of that. That is, with these tapers, $h_k$ the tapered estimate is given by:\n",
    "$$\\widehat{S^t}(f) = T \\left\\vert\\sum_{k=0}^{N-1} h_kx_k\\exp(-i2\\pi k fT)\\right\\vert^2$$\n"
   ]
  },
  {
   "cell_type": "code",
   "execution_count": null,
   "metadata": {},
   "outputs": [],
   "source": [
    "def compute_multitaper_spectrum(x, NW, Kmax):\n",
    "    \"\"\"Compute multitaper spectrum with Kmax tapers of NW \n",
    "    time-bandwidth product\n",
    "\n",
    "    Parameters:\n",
    "        x:\n",
    "            the signal\n",
    "        NW: \n",
    "            time-bandwidth product\n",
    "        Kmax:\n",
    "            Number of tapers to use\n",
    "    Returns:\n",
    "        S_xx:\n",
    "            periodogram.\n",
    "        freqs:\n",
    "         associated frequency (normalized) points.\n",
    "    \"\"\"\n",
    "    n = x.shape[-1]\n",
    "    # generate the tapers, use norm=2 keyword\n",
    "    dpss_tapers = signal.windows.dpss(n, NW, Kmax=Kmax, norm=2)\n",
    "    # These tapers are normalized by window length, so you need to take care of them.\n",
    "\n",
    "    # Cycle through the tapers in a for loop, and get the tapered estimate\n",
    "    # Store the generate estimates in a list.\n",
    "    St_xxs = []\n",
    "    for taper in dpss_tapers:\n",
    "        # taper the signal\n",
    "        tapered_x = x * taper\n",
    "\n",
    "        # Compute the periodogram using your written `compute_periodogram` function\n",
    "        # This is 'reuse' of code, and highly encouraged!!!\n",
    "        St_xx, freqs = compute_periodogram(tapered_x)\n",
    "        St_xxs.append(St_xx * n)\n",
    "    # We will stack the rows in the list vertically to create a numpy array\n",
    "    St_xxs = np.vstack(St_xxs)\n",
    "    # Then take its mean in first (0th) dimension to get the multitaper estimate\n",
    "    Smtm_xx = St_xxs.mean(0)\n",
    "    return Smtm_xx, freqs"
   ]
  },
  {
   "cell_type": "markdown",
   "metadata": {},
   "source": [
    "Now try that function, and plot the multitaper spectrum againt the true spectrum."
   ]
  },
  {
   "cell_type": "code",
   "execution_count": null,
   "metadata": {},
   "outputs": [],
   "source": [
    "Smtm_xx_est, freqs = compute_multitaper_spectrum(wn, NW=4, Kmax=6)"
   ]
  },
  {
   "cell_type": "code",
   "execution_count": null,
   "metadata": {},
   "outputs": [],
   "source": [
    "S_xx_true = np.abs(fft.fft(true_acov))\n",
    "freqs_ = np.linspace(0, 1, num=len(S_xx_true))\n",
    "\n",
    "fig1, ax = pyplot.subplots(figsize=(5, 2))\n",
    "ax.plot(freqs, 10*np.log10(Smtm_xx_est), linewidth=1, color='r', label='Sample')\n",
    "ax.plot(freqs_, 10*np.log10(S_xx_true), linewidth=1, color='b', label='True')\n",
    "ax.set_ylim([-30, 20])\n",
    "ax.set_xlim([0., 0.5])\n",
    "ax.legend()\n",
    "_ = ax.set_title(' Multitaper spectrum plot')"
   ]
  },
  {
   "cell_type": "markdown",
   "metadata": {},
   "source": [
    "Q1. Try varying `K_max` and see what happens! \n",
    "\n",
    "Q2. Try varying `NW` keeping `K_max=2NW-2`, and see what happens!!"
   ]
  },
  {
   "cell_type": "markdown",
   "metadata": {},
   "source": [
    "Congrats you finished this notebook!\n",
    "\n",
    "Now, copy the function to `utils.py` and see how multitaper spectrum estimation does for ar2, and ar4 proceeses. "
   ]
  }
 ],
 "metadata": {
  "kernelspec": {
   "display_name": "Python 3 (ipykernel)",
   "language": "python",
   "name": "python3"
  },
  "language_info": {
   "codemirror_mode": {
    "name": "ipython",
    "version": 3
   },
   "file_extension": ".py",
   "mimetype": "text/x-python",
   "name": "python",
   "nbconvert_exporter": "python",
   "pygments_lexer": "ipython3",
   "version": "3.11.7"
  }
 },
 "nbformat": 4,
 "nbformat_minor": 4
}
