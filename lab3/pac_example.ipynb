{
 "cells": [
  {
   "cell_type": "code",
   "execution_count": null,
   "metadata": {},
   "outputs": [],
   "source": [
    "import numpy as np\n",
    "from matplotlib import pyplot as plt\n",
    "from numpy import pi as pi\n",
    "from somata.oscillator_search import IterativeOscillatorModel\n",
    "from somata.pac.pac_model import fit_pac_regression, kmod, phimod, optimize_arp\n",
    "\n",
    "def rotation_matrix(Fs, f):\n",
    "    return np.array([[np.cos(2*pi*f/Fs), -np.sin(2*pi*f/Fs)], [np.sin(2*pi*f/Fs), np.cos(2*pi*f/Fs)]])\n",
    "\n",
    "def window(y, window_length = 500, window_stride = 100):\n",
    "    \"\"\"\n",
    "    Splits data into windows\n",
    "\n",
    "    :param y: _description_\n",
    "    :param window_length: _description_\n",
    "    :param window_stride: \n",
    "    :param min_length: Minimum length of signal remaining for there to be a new window\n",
    "    \"\"\"\n",
    "    \n",
    "    starts = np.arange(0, len(y) - window_length + 1, window_stride)\n",
    "    ends = np.minimum(starts + window_length, len(y))\n",
    "    \n",
    "    return [y[starts[x]:ends[x]] for x in range(len(starts))]\n",
    "\n",
    "# Generate data\n",
    "def generate_pac_data(n = int(1e3), Fs = 100, f_slow = 0.5, a_slow = 0.9999, Q_slow = 1e-5, R_slow = 0.1, f_fast = 5, a_fast = 0.9999, Q_fast = 1e-5, R_fast = 0.1, k = 1, phi = 0, rng = np.random.default_rng(12345789)):\n",
    "    \"\"\"\n",
    "    Generates a fast and slow signal with phase amplitude modulation\n",
    "\n",
    "    :param n: Number of data points, defaults to int(1e3)\n",
    "    :param Fs: Sampling frequency, defaults to 100\n",
    "    :param f_slow: Frequency of slow oscillation, defaults to 0.5\n",
    "    :param a_slow: Damping factor of slow oscillation, defaults to 0.9999\n",
    "    :param Q_slow: State noise of slow oscillation, defaults to 1e-5\n",
    "    :param R_slow: Observation noise of slow oscillation, defaults to 1\n",
    "    :param f_fast: Frequency of fast oscillation, defaults to 10\n",
    "    :param a_fast: Damping factor of fast oscillation, defaults to 0.9999\n",
    "    :param Q_fast: State noise of fast oscillation, defaults to 1e-5\n",
    "    :param R_fast: Observation noise of fast oscillation, defaults to 1\n",
    "    :param k: Magnitude of phase-amplitude coupling, defaults to 1\n",
    "    :param phi: Phase of slow oscillation at which amplitude of fast oscillation peaks, defaults to 0\n",
    "    :param rng: Random number generator, seeded for reproducibility\n",
    "\n",
    "    :return: Tuple of t (time), y_slow (Slow signal), y_fast (Fast signal)\n",
    "    \"\"\"\n",
    "    y_slow = np.empty(n)\n",
    "    y_fast = np.empty(n)\n",
    "    t = np.arange(0, n/Fs, 1/Fs)\n",
    "\n",
    "    F_slow = rotation_matrix(Fs, f_slow)\n",
    "    F_fast = rotation_matrix(Fs, f_fast)\n",
    "\n",
    "    x_slow = np.array([1., 0.])\n",
    "    x_fast = np.array([1., 0.])\n",
    "    \n",
    "    for i in range(n):\n",
    "        y_slow[i] = x_slow[0] + rng.normal(0, R_slow)\n",
    "        y_fast[i] = x_fast[0] * (1 + k * np.cos(np.arccos(x_slow[1]/np.sqrt(x_slow[0] ** 2 + x_slow[1] ** 2) - phi))) + rng.normal(0, R_fast)\n",
    "        \n",
    "        x_slow = a_slow * F_slow @ x_slow + rng.multivariate_normal([0, 0], np.diag([Q_slow, Q_slow]))\n",
    "        x_fast = a_fast * F_fast @ x_fast + rng.multivariate_normal([0, 0], np.diag([Q_fast, Q_fast]))\n",
    "    \n",
    "    return t, y_slow, y_fast\n",
    "\n"
   ]
  },
  {
   "cell_type": "code",
   "execution_count": null,
   "metadata": {},
   "outputs": [],
   "source": [
    "n = int(2e3)\n",
    "Fs = 100\n",
    "t, y_slow, y_fast = generate_pac_data(n, Fs)"
   ]
  },
  {
   "cell_type": "code",
   "execution_count": null,
   "metadata": {},
   "outputs": [],
   "source": [
    "plt.plot(t, y_slow)\n",
    "plt.plot(t, y_fast)\n",
    "plt.show()"
   ]
  },
  {
   "cell_type": "code",
   "execution_count": null,
   "metadata": {},
   "outputs": [],
   "source": [
    "iosc_slow = IterativeOscillatorModel(y_slow, 100)\n",
    "iosc_slow.iterate()\n",
    "\n",
    "iosc_fast = IterativeOscillatorModel(y_fast, 100)\n",
    "iosc_fast.iterate()"
   ]
  },
  {
   "cell_type": "code",
   "execution_count": null,
   "metadata": {},
   "outputs": [],
   "source": [
    "fitted_slow = iosc_slow.get_knee_osc()\n",
    "fitted_fast = iosc_fast.get_knee_osc()\n",
    "\n",
    "print(fitted_slow)\n"
   ]
  },
  {
   "cell_type": "code",
   "execution_count": null,
   "metadata": {},
   "outputs": [],
   "source": [
    "\n",
    "print(fitted_fast)"
   ]
  },
  {
   "cell_type": "code",
   "execution_count": null,
   "metadata": {},
   "outputs": [],
   "source": [
    "x_slow = fitted_slow.kalman_filt_smooth(y= y_slow[None, :], return_dict = True)['x_t_n']\n",
    "x_fast = fitted_fast.kalman_filt_smooth(y= y_fast[None, :], return_dict = True)['x_t_n']"
   ]
  },
  {
   "cell_type": "code",
   "execution_count": null,
   "metadata": {},
   "outputs": [],
   "source": [
    "amplitude_slow = np.sqrt(np.sum(x_slow[:,1:] ** 2, 0))\n",
    "amplitude_fast = np.sqrt(np.sum(x_fast[:,1:] ** 2, 0))\n",
    "\n",
    "phase_slow = np.arctan2(x_slow[1,1:], x_slow[0,1:])\n",
    "phase_fast = np.arctan2(x_fast[1,1:], x_fast[0,1:])"
   ]
  },
  {
   "cell_type": "code",
   "execution_count": null,
   "metadata": {},
   "outputs": [],
   "source": [
    "plt.plot(t, amplitude_slow)\n",
    "plt.plot(t, amplitude_fast)\n",
    "plt.show()\n",
    "         "
   ]
  },
  {
   "cell_type": "code",
   "execution_count": null,
   "metadata": {},
   "outputs": [],
   "source": [
    "plt.plot(t, phase_slow)\n",
    "plt.plot(t, phase_fast)\n",
    "plt.show()\n",
    "         "
   ]
  },
  {
   "cell_type": "code",
   "execution_count": null,
   "metadata": {},
   "outputs": [],
   "source": [
    "# Window phase of slow oscillation and amplitude of fast oscillation\n",
    "beta = fit_pac_regression(phase_slow, amplitude_fast)"
   ]
  },
  {
   "cell_type": "code",
   "execution_count": null,
   "metadata": {},
   "outputs": [],
   "source": [
    "beta_map = np.mean(beta, 0)\n",
    "fitted_k = kmod(beta_map[0], beta_map[1], beta_map[2])\n",
    "fitted_phi = phimod(beta_map[1], beta_map[2])\n",
    "print(f\"kmod = {fitted_k:.5f}, phimod = {fitted_phi:.5f}\")"
   ]
  },
  {
   "cell_type": "code",
   "execution_count": null,
   "metadata": {},
   "outputs": [],
   "source": [
    "# Windowed phase\n",
    "windowed_phase = window(phase_slow, 250, 100)\n",
    "windowed_amplitude = window(amplitude_fast, 250, 100)\n",
    "windowed_beta = [fit_pac_regression(windowed_phase[i], windowed_amplitude[i]) for i in range(len(windowed_phase))]"
   ]
  },
  {
   "cell_type": "code",
   "execution_count": null,
   "metadata": {},
   "outputs": [],
   "source": [
    "windowed_beta_map = np.row_stack([np.mean(x, 0) for x in windowed_beta]).T\n",
    "# windowed_beta_map = windowed_beta_map - np.mean(windowed_beta_map, 1)[:,None]"
   ]
  },
  {
   "cell_type": "code",
   "execution_count": null,
   "metadata": {},
   "outputs": [],
   "source": [
    "plt.plot(np.arange(0, windowed_beta_map.shape[-1], 1), windowed_beta_map[0,:])\n",
    "plt.plot(np.arange(0, windowed_beta_map.shape[-1], 1), windowed_beta_map[1,:])\n",
    "plt.plot(np.arange(0, windowed_beta_map.shape[-1], 1), windowed_beta_map[2,:])\n",
    "plt.show()"
   ]
  },
  {
   "cell_type": "code",
   "execution_count": null,
   "metadata": {},
   "outputs": [],
   "source": [
    "from somata.pac.pac_model import autocovariances, block_toeplitz, ar_parameters, mvar_ssm\n",
    "A, Q, R = optimize_arp(windowed_beta_map, 1)\n",
    "model = mvar_ssm(windowed_beta_map, A, Q, R)"
   ]
  },
  {
   "cell_type": "code",
   "execution_count": null,
   "metadata": {},
   "outputs": [],
   "source": [
    "z = model.kalman_filt_smooth(return_dict=True)\n",
    "\n",
    "plt.plot(z['x_t_t'][0,1:])\n",
    "plt.plot(z['x_t_t'][1,1:])\n",
    "plt.plot(z['x_t_t'][2,1:])\n",
    "plt.show()\n",
    "\n",
    "x = z['x_t_t'][:,1:]\n"
   ]
  }
 ],
 "metadata": {
  "kernelspec": {
   "display_name": "somata",
   "language": "python",
   "name": "python3"
  },
  "language_info": {
   "codemirror_mode": {
    "name": "ipython",
    "version": 3
   },
   "file_extension": ".py",
   "mimetype": "text/x-python",
   "name": "python",
   "nbconvert_exporter": "python",
   "pygments_lexer": "ipython3",
   "version": "3.12.2"
  }
 },
 "nbformat": 4,
 "nbformat_minor": 2
}
