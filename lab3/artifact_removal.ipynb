{
 "cells": [
  {
   "cell_type": "code",
   "execution_count": null,
   "metadata": {},
   "outputs": [],
   "source": [
    "# author: Tom Stone <tomstone@stanford.edu>\n",
    "# license: BSD 3-clause\n",
    "\n",
    "import somata\n",
    "from somata.basic_models import StateSpaceModel as Ssm\n",
    "from somata.basic_models import OscillatorModel as Osc\n",
    "from somata.basic_models import AutoRegModel as Arn\n",
    "from somata.switching.vb import VBSwitchModel\n",
    "from somata.switching.traditional import switching as traditional_switching\n",
    "\n",
    "import matplotlib.pyplot as plt\n",
    "\n",
    "from copy import deepcopy\n",
    "\n",
    "import numpy as np\n",
    "import pickle as pkl"
   ]
  },
  {
   "cell_type": "markdown",
   "metadata": {},
   "source": [
    "Lets load in some data. These five objects are all lists of `np.array` objects, the sampling frequency is 100 Hz"
   ]
  },
  {
   "cell_type": "code",
   "execution_count": null,
   "metadata": {},
   "outputs": [],
   "source": [
    "with open('clean_30s_segments.pkl', 'rb') as f:\n",
    "    clean_30s_segments = pkl.load(f)\n",
    "\n",
    "with open('inhom_artifacts.pkl', 'rb') as g:\n",
    "    inhom_artifacts = pkl.load(g)\n",
    "\n",
    "with open('segments.pkl', 'rb') as h:\n",
    "    data_dict = pkl.load(h)\n",
    "    cleans = data_dict['cleans']\n",
    "    noises = data_dict['noises']\n",
    "    tests  = data_dict['tests']"
   ]
  },
  {
   "cell_type": "markdown",
   "metadata": {},
   "source": [
    "Lets take a look at one of these artifacts"
   ]
  },
  {
   "cell_type": "code",
   "execution_count": null,
   "metadata": {},
   "outputs": [],
   "source": [
    "plt.plot(inhom_artifacts[1].T)"
   ]
  },
  {
   "cell_type": "markdown",
   "metadata": {},
   "source": [
    "First, we set up a model of the data and a model of the artifact. These parameters were learned on another dataset"
   ]
  },
  {
   "cell_type": "code",
   "execution_count": null,
   "metadata": {},
   "outputs": [],
   "source": [
    "data_model = Osc(a = [0.969, 0.946], freq = [1.15, 10.29], sigma2=[1.646, 2.633], R=np.array([[0.301]]), Fs = 100)\n",
    "\n",
    "artifact_model = Arn(coeff=[1.271, -0.301], sigma2=370.388, Fs = 100)"
   ]
  },
  {
   "cell_type": "markdown",
   "metadata": {},
   "source": [
    "Now we create an array of `Ssm` objects to switch between, and write down the observation matrices that leave out the artifacts"
   ]
  },
  {
   "cell_type": "code",
   "execution_count": null,
   "metadata": {},
   "outputs": [],
   "source": [
    "models_to_switch = [data_model.copy().ssm(), data_model.copy().concat_(artifact_model.copy())]\n",
    "Gs = [np.array([[1,0,1,0]]), np.array([[1,0,1,0,0,0]])]"
   ]
  },
  {
   "cell_type": "markdown",
   "metadata": {},
   "source": [
    "## Synthetic data (real data + real artifact)"
   ]
  },
  {
   "cell_type": "code",
   "execution_count": null,
   "metadata": {},
   "outputs": [],
   "source": [
    "y = cleans[0]\n",
    "y_test = deepcopy(y)\n",
    "\n",
    "index = 5 # this might be the best example, try with other artifacts to see the successes and failures\n",
    "\n",
    "y_test[[0],200:200+inhom_artifacts[index].shape[1]] += inhom_artifacts[index] # this particular artifact was just too large\n",
    "plt.plot(y.T)\n",
    "plt.plot(y_test.T-50)\n",
    "plt.legend(['Truth', 'With Artifact'])"
   ]
  },
  {
   "cell_type": "code",
   "execution_count": null,
   "metadata": {},
   "outputs": [],
   "source": [
    "Mprob, _ = traditional_switching(models_to_switch, y=y_test, method='ab pari') # interpolated density\n",
    "\n",
    "x_t = Ssm.par_kalman(models_to_switch, return_dict=True, method='dejong', skip_interp=False)['x_t_n_all']"
   ]
  },
  {
   "cell_type": "code",
   "execution_count": null,
   "metadata": {},
   "outputs": [],
   "source": [
    "y_cleaned = sum([(Gs[i] @ x_t[i][:,1:]) * Mprob[i,:] for i in range(len(models_to_switch))])"
   ]
  },
  {
   "cell_type": "code",
   "execution_count": null,
   "metadata": {},
   "outputs": [],
   "source": [
    "plt.plot(y.T)\n",
    "plt.plot(y_cleaned.T)\n",
    "plt.plot(y_test.T - 100)\n",
    "plt.legend(['Truth', 'Recovered', 'With Artifact'])\n",
    "plt.show()"
   ]
  },
  {
   "cell_type": "code",
   "execution_count": null,
   "metadata": {},
   "outputs": [],
   "source": [
    "plt.plot(Mprob.T)\n",
    "plt.legend(['Clean model', 'Model with artifact'])\n",
    "plt.title('Model probabilities')\n",
    "plt.show()"
   ]
  },
  {
   "cell_type": "markdown",
   "metadata": {},
   "source": [
    "## Real data that contain artifacts\n",
    "Play around with different `sigma2` in the `artifact_model` object.\n",
    "\n",
    "The artifact shown is a 'Train of Four' artifact, which comes from a device that measures response to electrical stimuli to gauge depth of anesthesia, and is a pain for our research.\n",
    "\n",
    "This time, we will have two artifact models with different state noise covariances (hence different scales of artifact)"
   ]
  },
  {
   "cell_type": "code",
   "execution_count": null,
   "metadata": {},
   "outputs": [],
   "source": [
    "data_model = Osc(a = [0.969, 0.946], freq = [1.15, 10.29], sigma2=[1.646, 2.633], R=np.array([[0.301]]), Fs = 100)\n",
    "\n",
    "artifact_model  = Arn(coeff=[1.271, -0.301], sigma2=37.388, Fs = 100)\n",
    "artifact_model2 = Arn(coeff=[1.271, -0.301], sigma2=37.388 * 5, Fs = 100)\n",
    "\n",
    "models_to_switch = [\n",
    "    data_model.ssm()\n",
    "    , data_model.ssm().concat_(artifact_model)\n",
    "    , data_model.ssm().concat_(artifact_model2)\n",
    "]\n",
    "Gs = [\n",
    "    np.array([[1,0,1,0]])\n",
    "    , np.array([[1,0,1,0,0,0]])\n",
    "    , np.array([[1,0,1,0,0,0]])\n",
    "] "
   ]
  },
  {
   "cell_type": "code",
   "execution_count": null,
   "metadata": {},
   "outputs": [],
   "source": [
    "y_test = tests[18]\n",
    "plt.plot(y_test.T)\n",
    "plt.title('Train of Four Artifact')\n",
    "plt.show()"
   ]
  },
  {
   "cell_type": "code",
   "execution_count": null,
   "metadata": {},
   "outputs": [],
   "source": [
    "Mprob, _ = traditional_switching(models_to_switch, y=y_test, method='ab pari') # interpolated density\n",
    "\n",
    "x_t = Ssm.par_kalman(models_to_switch, return_dict=True, method='dejong', skip_interp=False)['x_t_n_all']\n",
    "\n",
    "y_cleaned = sum([(Gs[i] @ x_t[i][:,1:]) * Mprob[i,:] for i in range(len(models_to_switch))])"
   ]
  },
  {
   "cell_type": "code",
   "execution_count": null,
   "metadata": {},
   "outputs": [],
   "source": [
    "plt.plot(y_test.T)\n",
    "plt.plot(y_cleaned.T)\n",
    "plt.legend(['Original Data', 'Scrubbed Data'])\n",
    "plt.title('Train of Four Artifact')\n",
    "plt.show()"
   ]
  },
  {
   "cell_type": "code",
   "execution_count": null,
   "metadata": {},
   "outputs": [],
   "source": [
    "plt.plot(Mprob.T)\n",
    "plt.legend(['Without artifact', 'Small artifact', 'Large artifact'])\n",
    "plt.title('Model probabilities')\n",
    "plt.show()"
   ]
  },
  {
   "cell_type": "markdown",
   "metadata": {},
   "source": [
    "## Another real data example"
   ]
  },
  {
   "cell_type": "code",
   "execution_count": null,
   "metadata": {},
   "outputs": [],
   "source": [
    "data_model = Osc(a = [0.969, 0.946], freq = [1.15, 10.29], sigma2=[1.646, 2.633], R=np.array([[0.301]]), Fs = 100)\n",
    "\n",
    "artifact_model  = Arn(coeff=[1.271, -0.301], sigma2=37.388 / 5, Fs = 100)\n",
    "artifact_model2 = Arn(coeff=[1.271, -0.301], sigma2=37.388    , Fs = 100)\n",
    "artifact_model3 = Arn(coeff=[1.271, -0.301], sigma2=37.388 * 5, Fs = 100)\n",
    "\n",
    "models_to_switch = [\n",
    "    data_model.ssm()\n",
    "    , data_model.ssm().concat_(artifact_model)\n",
    "    , data_model.ssm().concat_(artifact_model2)\n",
    "    , data_model.ssm().concat_(artifact_model3)\n",
    "]\n",
    "Gs = [\n",
    "    np.array([[1,0,1,0]])\n",
    "    , np.array([[1,0,1,0,0,0]])\n",
    "    , np.array([[1,0,1,0,0,0]])\n",
    "    , np.array([[1,0,1,0,0,0]])\n",
    "] "
   ]
  },
  {
   "cell_type": "code",
   "execution_count": null,
   "metadata": {},
   "outputs": [],
   "source": [
    "y_test = tests[25]\n",
    "plt.plot(y_test.T)\n",
    "plt.show()"
   ]
  },
  {
   "cell_type": "code",
   "execution_count": null,
   "metadata": {},
   "outputs": [],
   "source": [
    "Mprob, _ = traditional_switching(models_to_switch, y=y_test, method='ab pari') # interpolated density\n",
    "\n",
    "x_t = Ssm.par_kalman(models_to_switch, return_dict=True, method='dejong', skip_interp=False)['x_t_n_all']\n",
    "\n",
    "y_cleaned = sum([(Gs[i] @ x_t[i][:,1:]) * Mprob[i,:] for i in range(len(models_to_switch))])"
   ]
  },
  {
   "cell_type": "code",
   "execution_count": null,
   "metadata": {},
   "outputs": [],
   "source": [
    "plt.plot(y_test.T)\n",
    "plt.plot(y_cleaned.T)\n",
    "plt.legend(['Original Data', 'Scrubbed Data'])\n",
    "plt.show()"
   ]
  },
  {
   "cell_type": "code",
   "execution_count": null,
   "metadata": {},
   "outputs": [],
   "source": [
    "plt.plot(Mprob.T)\n",
    "plt.legend(['Without artifact', 'Small artifact', 'Medium artifact', 'Large artifact'])\n",
    "plt.title('Model probabilities')\n",
    "plt.show()"
   ]
  }
 ],
 "metadata": {
  "kernelspec": {
   "display_name": "mne",
   "language": "python",
   "name": "python3"
  },
  "language_info": {
   "codemirror_mode": {
    "name": "ipython",
    "version": 3
   },
   "file_extension": ".py",
   "mimetype": "text/x-python",
   "name": "python",
   "nbconvert_exporter": "python",
   "pygments_lexer": "ipython3",
   "version": "3.11.6"
  }
 },
 "nbformat": 4,
 "nbformat_minor": 2
}
